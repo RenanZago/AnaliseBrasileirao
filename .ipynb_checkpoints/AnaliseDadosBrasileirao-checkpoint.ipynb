{
 "cells": [
  {
   "cell_type": "markdown",
   "id": "08fd1ab2",
   "metadata": {},
   "source": [
    "# Projeto Final - Análise de Dados do Campeonato Brasileiro 2023"
   ]
  },
  {
   "cell_type": "markdown",
   "id": "41ab008a",
   "metadata": {},
   "source": [
    "### Participantes:\n",
    "- Renan Alves Zago\n",
    "- Ronan Antonio Pereira Junior"
   ]
  },
  {
   "cell_type": "markdown",
   "id": "8b491366",
   "metadata": {},
   "source": [
    "## Determinação do Conjunto de Dados\n",
    "### Link da base de dados: \n",
    "https://www.kaggle.com/datasets/adaoduque/campeonato-brasileiro-de-futebol \n",
    "\n",
    "### Descrição geral da base\n",
    "A base de dados utilizada consiste nos dados do Campeonato Brasileiro de 2003 a 2023, possui 8405 linhas e 15 atributos, sendo eles:\n",
    "\n",
    "- Rodada: etapa que o campeonato se encontra (de 1-38)\n",
    "- Data: data da realização do jogo, no formato DD/MM/AAAA\n",
    "- Hora: hora da realização do jogo, no formato 24h\n",
    "- Mandante: time que está jogando na sua própria arena\n",
    "- Visitante: time que está jogando na arena do adversário\n",
    "- Formação Mandante: esquema tático do mandante\n",
    "- Formação Visitante: esquema tático do visitante\n",
    "- Técnico Mandante: nome do técnico mandante\n",
    "- Técnico Visitante: nome do técnico visitante\n",
    "- Vencedor: time que mais fez gols na partida, se o número de gols for igual, então não existe vencedor, o jogo é considerado empatado.\n",
    "- Arena: nome do estádio que aconteceu a partida\n",
    "- Mandante Placar: número de gols do mandante\n",
    "- Visitante Placar: número de gols do visitante\n",
    "- Mandante Estado: sigla do estado do mandante\n",
    "- Visitante Estado: sigla do estado do visitante\n"
   ]
  },
  {
   "cell_type": "markdown",
   "id": "18210662",
   "metadata": {},
   "source": [
    "# Análise Introdutória\n",
    "Conhecendo o dataset..."
   ]
  },
  {
   "cell_type": "code",
   "execution_count": 1,
   "id": "a7dab44a",
   "metadata": {},
   "outputs": [
    {
     "ename": "FileNotFoundError",
     "evalue": "[Errno 2] No such file or directory: 'campeonato-brasileiro-full.csv'",
     "output_type": "error",
     "traceback": [
      "\u001b[1;31m---------------------------------------------------------------------------\u001b[0m",
      "\u001b[1;31mFileNotFoundError\u001b[0m                         Traceback (most recent call last)",
      "Cell \u001b[1;32mIn[1], line 5\u001b[0m\n\u001b[0;32m      2\u001b[0m \u001b[38;5;28;01mimport\u001b[39;00m \u001b[38;5;21;01mpandas\u001b[39;00m \u001b[38;5;28;01mas\u001b[39;00m \u001b[38;5;21;01mpd\u001b[39;00m\n\u001b[0;32m      4\u001b[0m \u001b[38;5;66;03m# Importando conjunto de dados\u001b[39;00m\n\u001b[1;32m----> 5\u001b[0m dfBrasileirao \u001b[38;5;241m=\u001b[39m pd\u001b[38;5;241m.\u001b[39mread_csv(\u001b[38;5;124m\"\u001b[39m\u001b[38;5;124mcampeonato-brasileiro-full.csv\u001b[39m\u001b[38;5;124m\"\u001b[39m, usecols\u001b[38;5;241m=\u001b[39m\u001b[38;5;28;01mlambda\u001b[39;00m column: column \u001b[38;5;241m!=\u001b[39m \u001b[38;5;124m'\u001b[39m\u001b[38;5;124mID\u001b[39m\u001b[38;5;124m'\u001b[39m)\n",
      "File \u001b[1;32m~\\anaconda3\\Lib\\site-packages\\pandas\\util\\_decorators.py:211\u001b[0m, in \u001b[0;36mdeprecate_kwarg.<locals>._deprecate_kwarg.<locals>.wrapper\u001b[1;34m(*args, **kwargs)\u001b[0m\n\u001b[0;32m    209\u001b[0m     \u001b[38;5;28;01melse\u001b[39;00m:\n\u001b[0;32m    210\u001b[0m         kwargs[new_arg_name] \u001b[38;5;241m=\u001b[39m new_arg_value\n\u001b[1;32m--> 211\u001b[0m \u001b[38;5;28;01mreturn\u001b[39;00m func(\u001b[38;5;241m*\u001b[39margs, \u001b[38;5;241m*\u001b[39m\u001b[38;5;241m*\u001b[39mkwargs)\n",
      "File \u001b[1;32m~\\anaconda3\\Lib\\site-packages\\pandas\\util\\_decorators.py:331\u001b[0m, in \u001b[0;36mdeprecate_nonkeyword_arguments.<locals>.decorate.<locals>.wrapper\u001b[1;34m(*args, **kwargs)\u001b[0m\n\u001b[0;32m    325\u001b[0m \u001b[38;5;28;01mif\u001b[39;00m \u001b[38;5;28mlen\u001b[39m(args) \u001b[38;5;241m>\u001b[39m num_allow_args:\n\u001b[0;32m    326\u001b[0m     warnings\u001b[38;5;241m.\u001b[39mwarn(\n\u001b[0;32m    327\u001b[0m         msg\u001b[38;5;241m.\u001b[39mformat(arguments\u001b[38;5;241m=\u001b[39m_format_argument_list(allow_args)),\n\u001b[0;32m    328\u001b[0m         \u001b[38;5;167;01mFutureWarning\u001b[39;00m,\n\u001b[0;32m    329\u001b[0m         stacklevel\u001b[38;5;241m=\u001b[39mfind_stack_level(),\n\u001b[0;32m    330\u001b[0m     )\n\u001b[1;32m--> 331\u001b[0m \u001b[38;5;28;01mreturn\u001b[39;00m func(\u001b[38;5;241m*\u001b[39margs, \u001b[38;5;241m*\u001b[39m\u001b[38;5;241m*\u001b[39mkwargs)\n",
      "File \u001b[1;32m~\\anaconda3\\Lib\\site-packages\\pandas\\io\\parsers\\readers.py:950\u001b[0m, in \u001b[0;36mread_csv\u001b[1;34m(filepath_or_buffer, sep, delimiter, header, names, index_col, usecols, squeeze, prefix, mangle_dupe_cols, dtype, engine, converters, true_values, false_values, skipinitialspace, skiprows, skipfooter, nrows, na_values, keep_default_na, na_filter, verbose, skip_blank_lines, parse_dates, infer_datetime_format, keep_date_col, date_parser, dayfirst, cache_dates, iterator, chunksize, compression, thousands, decimal, lineterminator, quotechar, quoting, doublequote, escapechar, comment, encoding, encoding_errors, dialect, error_bad_lines, warn_bad_lines, on_bad_lines, delim_whitespace, low_memory, memory_map, float_precision, storage_options)\u001b[0m\n\u001b[0;32m    935\u001b[0m kwds_defaults \u001b[38;5;241m=\u001b[39m _refine_defaults_read(\n\u001b[0;32m    936\u001b[0m     dialect,\n\u001b[0;32m    937\u001b[0m     delimiter,\n\u001b[1;32m   (...)\u001b[0m\n\u001b[0;32m    946\u001b[0m     defaults\u001b[38;5;241m=\u001b[39m{\u001b[38;5;124m\"\u001b[39m\u001b[38;5;124mdelimiter\u001b[39m\u001b[38;5;124m\"\u001b[39m: \u001b[38;5;124m\"\u001b[39m\u001b[38;5;124m,\u001b[39m\u001b[38;5;124m\"\u001b[39m},\n\u001b[0;32m    947\u001b[0m )\n\u001b[0;32m    948\u001b[0m kwds\u001b[38;5;241m.\u001b[39mupdate(kwds_defaults)\n\u001b[1;32m--> 950\u001b[0m \u001b[38;5;28;01mreturn\u001b[39;00m _read(filepath_or_buffer, kwds)\n",
      "File \u001b[1;32m~\\anaconda3\\Lib\\site-packages\\pandas\\io\\parsers\\readers.py:605\u001b[0m, in \u001b[0;36m_read\u001b[1;34m(filepath_or_buffer, kwds)\u001b[0m\n\u001b[0;32m    602\u001b[0m _validate_names(kwds\u001b[38;5;241m.\u001b[39mget(\u001b[38;5;124m\"\u001b[39m\u001b[38;5;124mnames\u001b[39m\u001b[38;5;124m\"\u001b[39m, \u001b[38;5;28;01mNone\u001b[39;00m))\n\u001b[0;32m    604\u001b[0m \u001b[38;5;66;03m# Create the parser.\u001b[39;00m\n\u001b[1;32m--> 605\u001b[0m parser \u001b[38;5;241m=\u001b[39m TextFileReader(filepath_or_buffer, \u001b[38;5;241m*\u001b[39m\u001b[38;5;241m*\u001b[39mkwds)\n\u001b[0;32m    607\u001b[0m \u001b[38;5;28;01mif\u001b[39;00m chunksize \u001b[38;5;129;01mor\u001b[39;00m iterator:\n\u001b[0;32m    608\u001b[0m     \u001b[38;5;28;01mreturn\u001b[39;00m parser\n",
      "File \u001b[1;32m~\\anaconda3\\Lib\\site-packages\\pandas\\io\\parsers\\readers.py:1442\u001b[0m, in \u001b[0;36mTextFileReader.__init__\u001b[1;34m(self, f, engine, **kwds)\u001b[0m\n\u001b[0;32m   1439\u001b[0m     \u001b[38;5;28mself\u001b[39m\u001b[38;5;241m.\u001b[39moptions[\u001b[38;5;124m\"\u001b[39m\u001b[38;5;124mhas_index_names\u001b[39m\u001b[38;5;124m\"\u001b[39m] \u001b[38;5;241m=\u001b[39m kwds[\u001b[38;5;124m\"\u001b[39m\u001b[38;5;124mhas_index_names\u001b[39m\u001b[38;5;124m\"\u001b[39m]\n\u001b[0;32m   1441\u001b[0m \u001b[38;5;28mself\u001b[39m\u001b[38;5;241m.\u001b[39mhandles: IOHandles \u001b[38;5;241m|\u001b[39m \u001b[38;5;28;01mNone\u001b[39;00m \u001b[38;5;241m=\u001b[39m \u001b[38;5;28;01mNone\u001b[39;00m\n\u001b[1;32m-> 1442\u001b[0m \u001b[38;5;28mself\u001b[39m\u001b[38;5;241m.\u001b[39m_engine \u001b[38;5;241m=\u001b[39m \u001b[38;5;28mself\u001b[39m\u001b[38;5;241m.\u001b[39m_make_engine(f, \u001b[38;5;28mself\u001b[39m\u001b[38;5;241m.\u001b[39mengine)\n",
      "File \u001b[1;32m~\\anaconda3\\Lib\\site-packages\\pandas\\io\\parsers\\readers.py:1735\u001b[0m, in \u001b[0;36mTextFileReader._make_engine\u001b[1;34m(self, f, engine)\u001b[0m\n\u001b[0;32m   1733\u001b[0m     \u001b[38;5;28;01mif\u001b[39;00m \u001b[38;5;124m\"\u001b[39m\u001b[38;5;124mb\u001b[39m\u001b[38;5;124m\"\u001b[39m \u001b[38;5;129;01mnot\u001b[39;00m \u001b[38;5;129;01min\u001b[39;00m mode:\n\u001b[0;32m   1734\u001b[0m         mode \u001b[38;5;241m+\u001b[39m\u001b[38;5;241m=\u001b[39m \u001b[38;5;124m\"\u001b[39m\u001b[38;5;124mb\u001b[39m\u001b[38;5;124m\"\u001b[39m\n\u001b[1;32m-> 1735\u001b[0m \u001b[38;5;28mself\u001b[39m\u001b[38;5;241m.\u001b[39mhandles \u001b[38;5;241m=\u001b[39m get_handle(\n\u001b[0;32m   1736\u001b[0m     f,\n\u001b[0;32m   1737\u001b[0m     mode,\n\u001b[0;32m   1738\u001b[0m     encoding\u001b[38;5;241m=\u001b[39m\u001b[38;5;28mself\u001b[39m\u001b[38;5;241m.\u001b[39moptions\u001b[38;5;241m.\u001b[39mget(\u001b[38;5;124m\"\u001b[39m\u001b[38;5;124mencoding\u001b[39m\u001b[38;5;124m\"\u001b[39m, \u001b[38;5;28;01mNone\u001b[39;00m),\n\u001b[0;32m   1739\u001b[0m     compression\u001b[38;5;241m=\u001b[39m\u001b[38;5;28mself\u001b[39m\u001b[38;5;241m.\u001b[39moptions\u001b[38;5;241m.\u001b[39mget(\u001b[38;5;124m\"\u001b[39m\u001b[38;5;124mcompression\u001b[39m\u001b[38;5;124m\"\u001b[39m, \u001b[38;5;28;01mNone\u001b[39;00m),\n\u001b[0;32m   1740\u001b[0m     memory_map\u001b[38;5;241m=\u001b[39m\u001b[38;5;28mself\u001b[39m\u001b[38;5;241m.\u001b[39moptions\u001b[38;5;241m.\u001b[39mget(\u001b[38;5;124m\"\u001b[39m\u001b[38;5;124mmemory_map\u001b[39m\u001b[38;5;124m\"\u001b[39m, \u001b[38;5;28;01mFalse\u001b[39;00m),\n\u001b[0;32m   1741\u001b[0m     is_text\u001b[38;5;241m=\u001b[39mis_text,\n\u001b[0;32m   1742\u001b[0m     errors\u001b[38;5;241m=\u001b[39m\u001b[38;5;28mself\u001b[39m\u001b[38;5;241m.\u001b[39moptions\u001b[38;5;241m.\u001b[39mget(\u001b[38;5;124m\"\u001b[39m\u001b[38;5;124mencoding_errors\u001b[39m\u001b[38;5;124m\"\u001b[39m, \u001b[38;5;124m\"\u001b[39m\u001b[38;5;124mstrict\u001b[39m\u001b[38;5;124m\"\u001b[39m),\n\u001b[0;32m   1743\u001b[0m     storage_options\u001b[38;5;241m=\u001b[39m\u001b[38;5;28mself\u001b[39m\u001b[38;5;241m.\u001b[39moptions\u001b[38;5;241m.\u001b[39mget(\u001b[38;5;124m\"\u001b[39m\u001b[38;5;124mstorage_options\u001b[39m\u001b[38;5;124m\"\u001b[39m, \u001b[38;5;28;01mNone\u001b[39;00m),\n\u001b[0;32m   1744\u001b[0m )\n\u001b[0;32m   1745\u001b[0m \u001b[38;5;28;01massert\u001b[39;00m \u001b[38;5;28mself\u001b[39m\u001b[38;5;241m.\u001b[39mhandles \u001b[38;5;129;01mis\u001b[39;00m \u001b[38;5;129;01mnot\u001b[39;00m \u001b[38;5;28;01mNone\u001b[39;00m\n\u001b[0;32m   1746\u001b[0m f \u001b[38;5;241m=\u001b[39m \u001b[38;5;28mself\u001b[39m\u001b[38;5;241m.\u001b[39mhandles\u001b[38;5;241m.\u001b[39mhandle\n",
      "File \u001b[1;32m~\\anaconda3\\Lib\\site-packages\\pandas\\io\\common.py:856\u001b[0m, in \u001b[0;36mget_handle\u001b[1;34m(path_or_buf, mode, encoding, compression, memory_map, is_text, errors, storage_options)\u001b[0m\n\u001b[0;32m    851\u001b[0m \u001b[38;5;28;01melif\u001b[39;00m \u001b[38;5;28misinstance\u001b[39m(handle, \u001b[38;5;28mstr\u001b[39m):\n\u001b[0;32m    852\u001b[0m     \u001b[38;5;66;03m# Check whether the filename is to be opened in binary mode.\u001b[39;00m\n\u001b[0;32m    853\u001b[0m     \u001b[38;5;66;03m# Binary mode does not support 'encoding' and 'newline'.\u001b[39;00m\n\u001b[0;32m    854\u001b[0m     \u001b[38;5;28;01mif\u001b[39;00m ioargs\u001b[38;5;241m.\u001b[39mencoding \u001b[38;5;129;01mand\u001b[39;00m \u001b[38;5;124m\"\u001b[39m\u001b[38;5;124mb\u001b[39m\u001b[38;5;124m\"\u001b[39m \u001b[38;5;129;01mnot\u001b[39;00m \u001b[38;5;129;01min\u001b[39;00m ioargs\u001b[38;5;241m.\u001b[39mmode:\n\u001b[0;32m    855\u001b[0m         \u001b[38;5;66;03m# Encoding\u001b[39;00m\n\u001b[1;32m--> 856\u001b[0m         handle \u001b[38;5;241m=\u001b[39m \u001b[38;5;28mopen\u001b[39m(\n\u001b[0;32m    857\u001b[0m             handle,\n\u001b[0;32m    858\u001b[0m             ioargs\u001b[38;5;241m.\u001b[39mmode,\n\u001b[0;32m    859\u001b[0m             encoding\u001b[38;5;241m=\u001b[39mioargs\u001b[38;5;241m.\u001b[39mencoding,\n\u001b[0;32m    860\u001b[0m             errors\u001b[38;5;241m=\u001b[39merrors,\n\u001b[0;32m    861\u001b[0m             newline\u001b[38;5;241m=\u001b[39m\u001b[38;5;124m\"\u001b[39m\u001b[38;5;124m\"\u001b[39m,\n\u001b[0;32m    862\u001b[0m         )\n\u001b[0;32m    863\u001b[0m     \u001b[38;5;28;01melse\u001b[39;00m:\n\u001b[0;32m    864\u001b[0m         \u001b[38;5;66;03m# Binary mode\u001b[39;00m\n\u001b[0;32m    865\u001b[0m         handle \u001b[38;5;241m=\u001b[39m \u001b[38;5;28mopen\u001b[39m(handle, ioargs\u001b[38;5;241m.\u001b[39mmode)\n",
      "\u001b[1;31mFileNotFoundError\u001b[0m: [Errno 2] No such file or directory: 'campeonato-brasileiro-full.csv'"
     ]
    }
   ],
   "source": [
    "# Importando biblioteca\n",
    "import pandas as pd\n",
    "\n",
    "# Importando conjunto de dados\n",
    "dfBrasileirao = pd.read_csv(\"campeonato-brasileiro-full.csv\", usecols=lambda column: column != 'ID') # Tirando a coluna ID pra evitar repetição na visualizaçaõ"
   ]
  },
  {
   "cell_type": "code",
   "execution_count": null,
   "id": "80453c83",
   "metadata": {},
   "outputs": [],
   "source": [
    "# Visualizando as primeiras linhas do dataset\n",
    "dfBrasileirao.head()"
   ]
  },
  {
   "cell_type": "code",
   "execution_count": null,
   "id": "0760d204",
   "metadata": {},
   "outputs": [],
   "source": [
    "# Visualizando as últimas linhas do dataset\n",
    "dfBrasileirao.tail()"
   ]
  },
  {
   "cell_type": "code",
   "execution_count": null,
   "id": "1462dfbb",
   "metadata": {},
   "outputs": [],
   "source": [
    "# Descobrindo número de linhas e colunas \n",
    "numLinhas, numColunas = dfBrasileirao.shape\n",
    "print(f\"Número de linhas: {numLinhas}\")\n",
    "print(f\"Número de colunas: {numColunas}\")"
   ]
  },
  {
   "cell_type": "code",
   "execution_count": null,
   "id": "5714f146",
   "metadata": {},
   "outputs": [],
   "source": [
    "# Visualizando informações do dataset\n",
    "dfBrasileirao.info()"
   ]
  },
  {
   "cell_type": "markdown",
   "id": "ef8b23da",
   "metadata": {},
   "source": [
    "Observando as informações acima, é possivel notar que os atributos \"Formacao Mandante\", \"Formacao Visitante\", \"Tecnico Mandante\" e \"Tecnico Visitante\" tem um deficit de dados, possuem quantidade significativa dos dados nulos."
   ]
  },
  {
   "cell_type": "markdown",
   "id": "bbf446ec",
   "metadata": {},
   "source": [
    "# Formatando Aparência dos dadaos "
   ]
  },
  {
   "cell_type": "code",
   "execution_count": null,
   "id": "d999115d",
   "metadata": {},
   "outputs": [],
   "source": [
    "# Formatando a 1° letra pra maiúscula\n",
    "dfBrasileirao.columns = dfBrasileirao.columns.str.title()\n",
    "\n",
    "# Substituindo \"_\" por espaço \n",
    "dfBrasileirao.columns = dfBrasileirao.columns.str.replace('_', ' ')\n",
    "\n",
    "dfBrasileirao.columns = dfBrasileirao.columns.str.replace('Rodata', 'Rodada')\n",
    "\n",
    "# Visualizando as primeiras linhas do dataset\n",
    "dfBrasileirao.head()"
   ]
  },
  {
   "cell_type": "markdown",
   "id": "16b7c19e",
   "metadata": {},
   "source": [
    "# Filtrando Ano Alvo da Análise (2023)"
   ]
  },
  {
   "cell_type": "code",
   "execution_count": null,
   "id": "b8e946c7",
   "metadata": {
    "scrolled": true
   },
   "outputs": [],
   "source": [
    "# Convertendo a coluna 'Data' para o tipo datetime\n",
    "dfBrasileirao['Data'] = pd.to_datetime(dfBrasileirao['Data'], format='%d/%m/%Y')\n",
    "\n",
    "# Filtrando as datas a partir de 2023\n",
    "filter_data = dfBrasileirao['Data'] >= '2023-01-01'\n",
    "brasileirao2023 = dfBrasileirao[filter_data]\n",
    "\n",
    "brasileirao2023.head()\n"
   ]
  },
  {
   "cell_type": "markdown",
   "id": "da098b46",
   "metadata": {},
   "source": [
    "# Preparação dos dados\n",
    "## Manipulação de possíveis atributos faltantes"
   ]
  },
  {
   "cell_type": "code",
   "execution_count": null,
   "id": "d0c69123",
   "metadata": {},
   "outputs": [],
   "source": [
    "# Contando o número de valores ausentes por linha (todos)\n",
    "num_linhas_com_ausentes = dfBrasileirao.isnull().sum(axis=1)\n",
    "\n",
    "# Filtrando apenas as linhas que contêm pelo menos um valor ausente\n",
    "linhas_com_ausentes = num_linhas_com_ausentes[num_linhas_com_ausentes > 0]\n",
    "\n",
    "# Exibindo a contagem total de linhas com valores ausentes\n",
    "total_linhas_com_ausentes = len(linhas_com_ausentes)\n",
    "print(f'Total de linhas com valores ausentes: {total_linhas_com_ausentes}')\n"
   ]
  },
  {
   "cell_type": "code",
   "execution_count": null,
   "id": "57d78feb",
   "metadata": {
    "scrolled": true
   },
   "outputs": [],
   "source": [
    "# Contando o número de valores ausentes por linha (2023)\n",
    "num_linhas_com_ausentes = brasileirao2023.isnull().sum(axis=1)\n",
    "\n",
    "linhas_com_ausentes = num_linhas_com_ausentes[num_linhas_com_ausentes > 0]\n",
    "\n",
    "total_linhas_com_ausentes = len(linhas_com_ausentes)\n",
    "print(f'Total de linhas com valores ausentes: {total_linhas_com_ausentes}')\n"
   ]
  },
  {
   "cell_type": "markdown",
   "id": "38834682",
   "metadata": {},
   "source": [
    "Podemos notar que não existem valores nulos no ano que nós vamos usar, porém, para exemplificar, vamos manipular os valores nulos que existem no dataset de algumas maneiras possíveis."
   ]
  },
  {
   "cell_type": "code",
   "execution_count": null,
   "id": "d1da5ad4",
   "metadata": {},
   "outputs": [],
   "source": [
    "# Removendo a linha com valores nulos\n",
    "dfBrasileiraoLinhasApagadas = dfBrasileirao.dropna()\n",
    "\n",
    "# Mostrando n° linhas com valores ausentes após a remoção\n",
    "num_linhas_com_ausentes = dfBrasileiraoLinhasApagadas.isnull().sum(axis=1)\n",
    "linhas_com_ausentes = num_linhas_com_ausentes[num_linhas_com_ausentes > 0]\n",
    "total_linhas_com_ausentes = len(linhas_com_ausentes)\n",
    "print(f'Total de linhas com valores ausentes: {total_linhas_com_ausentes}')\n",
    "\n",
    "# colocar outras formas de lidar com dados nulos\n"
   ]
  },
  {
   "cell_type": "code",
   "execution_count": null,
   "id": "6ecba8e4",
   "metadata": {},
   "outputs": [],
   "source": [
    "### Desempenho dos Times:\n",
    "Quais times têm o melhor desempenho geral? E os piores?\n",
    "Quais times têm a melhor média de gols por partida?\n",
    "Quais times têm a melhor média de gols marcados em casa e fora de casa?\n"
   ]
  },
  {
   "cell_type": "code",
   "execution_count": null,
   "id": "deae8bb1",
   "metadata": {},
   "outputs": [],
   "source": [
    "# Removendo as linhas correspondentes a empates\n",
    "brasileirao2023_sem_empates = brasileirao2023[brasileirao2023['Vencedor'] != '-']\n",
    "\n",
    "# Contando o número de vitórias para cada time\n",
    "vitorias_por_time = brasileirao2023_sem_empates['Vencedor'].value_counts()\n",
    "\n",
    "# Exibindo os três times mais vitoriosos\n",
    "tres_times_mais_vitoriosos = vitorias_por_time.head(20)\n",
    "\n",
    "print(\"Times mais vitoriosos:\")\n",
    "print(tres_times_mais_vitoriosos)"
   ]
  },
  {
   "cell_type": "code",
   "execution_count": null,
   "id": "5276aa49",
   "metadata": {},
   "outputs": [],
   "source": [
    "# Filtrando empates representados como '-'\n",
    "empates = brasileirao2023[brasileirao2023['Vencedor'] == '-']\n",
    "\n",
    "# Concatenando as séries de Mandante e Visitante e contando o número de empates para cada time\n",
    "empates_por_time = pd.concat([empates['Mandante'], empates['Visitante']]).value_counts()\n",
    "\n",
    "# Exibindo os três times que mais empataram\n",
    "tres_times_mais_empataram = empates_por_time.nlargest(3)\n",
    "\n",
    "print(\"Os três times que mais empataram:\")\n",
    "print(tres_times_mais_empataram)"
   ]
  },
  {
   "cell_type": "code",
   "execution_count": null,
   "id": "6c1c09b0",
   "metadata": {},
   "outputs": [],
   "source": [
    "# Inicializando um dicionário para armazenar as estatísticas de cada time\n",
    "estatisticas_times = {'Time': [], 'Pontos': [], 'Vitórias': [], 'Empates': [], 'Derrotas': [], 'Gols Marcados': [], 'Gols Sofridos': [], 'Saldo de Gols': []}\n",
    "\n",
    "# Obtendo a lista única de times no DataFrame\n",
    "times = pd.concat([brasileirao2023['Mandante'], brasileirao2023['Visitante']]).unique()\n",
    "\n",
    "# Iterando sobre cada time para calcular as estatísticas\n",
    "for time in times:\n",
    "    # Filtrando partidas em que o time foi mandante ou visitante\n",
    "    partidas_time = brasileirao2023[(brasileirao2023['Mandante'] == time) | (brasileirao2023['Visitante'] == time)]\n",
    "    \n",
    "    # Calculando estatísticas\n",
    "    vitorias = partidas_time[partidas_time['Vencedor'] == time].shape[0]\n",
    "    empates = partidas_time[partidas_time['Vencedor'] == '-'].shape[0]\n",
    "    derrotas = partidas_time.shape[0] - vitorias - empates\n",
    "    gols_marcados = partidas_time['Mandante Placar'].sum() + partidas_time['Visitante Placar'].sum()\n",
    "    gols_sofridos = partidas_time[partidas_time['Mandante'] == time]['Visitante Placar'].sum() + partidas_time[partidas_time['Visitante'] == time]['Mandante Placar'].sum()\n",
    "    saldo_gols = gols_marcados - gols_sofridos\n",
    "    pontos = vitorias * 3 + empates\n",
    "    \n",
    "    # Adicionando estatísticas ao dicionário\n",
    "    estatisticas_times['Time'].append(time)\n",
    "    estatisticas_times['Pontos'].append(pontos)\n",
    "    estatisticas_times['Vitórias'].append(vitorias)\n",
    "    estatisticas_times['Empates'].append(empates)\n",
    "    estatisticas_times['Derrotas'].append(derrotas)\n",
    "    estatisticas_times['Gols Marcados'].append(gols_marcados)\n",
    "    estatisticas_times['Gols Sofridos'].append(gols_sofridos)\n",
    "    estatisticas_times['Saldo de Gols'].append(saldo_gols)\n",
    "    \n",
    "\n",
    "# Criando um DataFrame com as estatísticas\n",
    "tabela_simplificada = pd.DataFrame(estatisticas_times)\n",
    "\n",
    "# Ordenando a tabela pelo número de pontos em ordem decrescente\n",
    "tabela_simplificada = tabela_simplificada.sort_values(by='Pontos', ascending=False)\n",
    "\n",
    "# Exibindo a tabela\n",
    "tabela_simplificada"
   ]
  },
  {
   "cell_type": "markdown",
   "id": "f16ea9cb",
   "metadata": {},
   "source": [
    "Algumas perguntas que vieram a nossa mente foram:\n",
    "\n",
    "\n",
    "### Estatísticas de Placares:\n",
    "Qual é a média de gols por partida no campeonato?\n",
    "Quais foram as partidas com maior número de gols?\n",
    "Quais times têm a defesa mais sólida (menos gols sofridos)?\n",
    "\n",
    "### Desempenho em Casa e Fora:\n",
    "Quais times têm um desempenho melhor em casa? E fora de casa?\n",
    "Existe uma correlação entre o desempenho de um time em casa e a posição na tabela?\n",
    "\n",
    "### Técnicos e Formações:\n",
    "Quais técnicos têm a melhor taxa de vitórias?\n",
    "Existe uma formação que geralmente leva a melhores resultados?\n",
    "\n",
    "### Distribuição Geográfica:\n",
    "Como os resultados variam entre os times de diferentes estados?\n",
    "Existem padrões nas partidas entre times de estados específicos?\n",
    "\n",
    "### Análise Temporal:\n",
    "Há alguma tendência temporal ao longo das rodadas?\n",
    "Algum time teve um desempenho significativamente melhor ou pior em determinado período?\n",
    "\n",
    "### Desempenho nos Estádios:\n",
    "Como os times se saem em diferentes arenas?\n",
    "Existem estádios que são particularmente difíceis para os times visitantes?\n",
    "\n",
    "### Correlações entre Atributos:\n",
    "Existe uma correlação entre o número de gols marcados e a posição na tabela?\n",
    "Há alguma correlação entre a formação escolhida e o resultado da partida?\n",
    "\n",
    "### Mudanças de Técnicos:\n",
    "Como as mudanças de técnicos afetam o desempenho do time?"
   ]
  }
 ],
 "metadata": {
  "kernelspec": {
   "display_name": "Python 3 (ipykernel)",
   "language": "python",
   "name": "python3"
  },
  "language_info": {
   "codemirror_mode": {
    "name": "ipython",
    "version": 3
   },
   "file_extension": ".py",
   "mimetype": "text/x-python",
   "name": "python",
   "nbconvert_exporter": "python",
   "pygments_lexer": "ipython3",
   "version": "3.11.4"
  }
 },
 "nbformat": 4,
 "nbformat_minor": 5
}
